{
 "cells": [
  {
   "cell_type": "markdown",
   "id": "21142873-18ae-41bc-a50a-240a02d26ed3",
   "metadata": {},
   "source": [
    "<h1 style=\"color:#907071;text-align: center;font-weight: bold\">Universidad Castro Carazo</h1>\n",
    "<h5 style=\"color:#7bbda1;text-align: center\">Analisis de Datos</h5>\n",
    "<center> <img src=\"Carro.png\"> </center>\n",
    "</br>\n",
    "<p style=\"text-align: justify;font-family:Verdana\">El análisis de datos es un proceso sistemático y metódico que implica la recopilación, organización, interpretación y visualización de conjuntos de datos con el objetivo de extraer información significativa y relevante. Este proceso utiliza herramientas, tecnologías y procesos para encontrar tendencias y resolver problemas mediante datos.</p>"
   ]
  },
  {
   "cell_type": "markdown",
   "id": "e6af9f38-94f6-448d-9833-861784fe27e8",
   "metadata": {},
   "source": [
    "<table>\n",
    "  <tr>\n",
    "    <td> <img src=\"Inf.png\"> </td>\n",
    "    <td> Repositorio UCI del set de datos</td>\n",
    "    <td> <a href=\"https://archive.ics.uci.edu/dataset/10/automobile\" >Enlace al Sitio Web</a> </td>\n",
    "  </tr>\n",
    "  <tr>\n",
    "    <td> <img src=\"Paleta.png\"> </td>\n",
    "    <td>Paleta de Colores</td>\n",
    "    <td> <a href=\"https://archive.ics.uci.edu/dataset/10/automobile\" >Enlace al Sitio Web</a> </td>\n",
    "  </tr>\n",
    "</table>\n"
   ]
  },
  {
   "cell_type": "markdown",
   "id": "fc03fdc1-a325-496e-9ece-e74953e8c465",
   "metadata": {},
   "source": [
    "<h2 Style = \"color:  #c6d7a0 \">1. Carga y estandarizacion de los set de datos</h2>\n",
    " \n",
    "<ul>\n",
    "<li style=\"font-family: Tahoma\">Instalar e importar las librerias necesarias para trabajar</li>\n",
    "<li style=\"font-family: Tahoma\">Importar los archivos csv (Set de Datos)</li>\n",
    "<li style=\"font-family: Tahoma\">Revison de los set de datos (encabezados)</li>\n",
    "<li style=\"font-family: Tahoma\">Generar un unico set de datos</li>\n",
    "</ul>\n",
    " \n",
    "<h4 style=\"color:#a4d9a3; font-family: Tahoma\"> 1.1) Instalar e importar las librerias necesarias para trabajar </h4>\n"
   ]
  },
  {
   "cell_type": "code",
   "execution_count": null,
   "id": "feb49d67-6a29-4788-b944-5ef50ef7cc21",
   "metadata": {},
   "outputs": [],
   "source": []
  }
 ],
 "metadata": {
  "kernelspec": {
   "display_name": "Python 3 (ipykernel)",
   "language": "python",
   "name": "python3"
  },
  "language_info": {
   "codemirror_mode": {
    "name": "ipython",
    "version": 3
   },
   "file_extension": ".py",
   "mimetype": "text/x-python",
   "name": "python",
   "nbconvert_exporter": "python",
   "pygments_lexer": "ipython3",
   "version": "3.12.8"
  }
 },
 "nbformat": 4,
 "nbformat_minor": 5
}
